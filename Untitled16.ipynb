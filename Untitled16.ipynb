{
 "cells": [
  {
   "cell_type": "code",
   "execution_count": 3,
   "metadata": {},
   "outputs": [],
   "source": [
    "import cv2\n",
    "import random\n",
    "import numpy as np\n",
    "import matplotlib.pyplot as plt\n",
    "img_gray=cv2.imread('D:/01.jpg',1)\n",
    "cv2.imshow('lena',img_gray)\n",
    "key=cv2.waitKey()\n",
    "if key==27:\n",
    "    cv2.destroyallWindows()"
   ]
  },
  {
   "cell_type": "code",
   "execution_count": 5,
   "metadata": {},
   "outputs": [
    {
     "name": "stdout",
     "output_type": "stream",
     "text": [
      "uint8\n"
     ]
    }
   ],
   "source": [
    "print(img_gray.dtype)"
   ]
  },
  {
   "cell_type": "code",
   "execution_count": 6,
   "metadata": {},
   "outputs": [
    {
     "name": "stdout",
     "output_type": "stream",
     "text": [
      "(375, 461, 3)\n"
     ]
    }
   ],
   "source": [
    "print(img_gray.shape)"
   ]
  },
  {
   "cell_type": "code",
   "execution_count": 5,
   "metadata": {},
   "outputs": [],
   "source": [
    "#裁剪\n",
    "img_crop=img_gray[0:100,0:200]\n",
    "cv2.imshow('img_crop',img_crop)\n",
    "key=cv2.waitKey()\n",
    "if key==27:\n",
    "    cv2.destroyAllWindows()"
   ]
  },
  {
   "cell_type": "code",
   "execution_count": 5,
   "metadata": {},
   "outputs": [],
   "source": [
    "#分离三通道\n",
    "import cv2\n",
    "img=cv2.imread('D:/11.jpg')\n",
    "B,G,R=cv2.split(img)\n",
    "cv2.imshow('B',B)\n",
    "cv2.imshow('G',G)\n",
    "cv2.imshow('R',R)\n",
    "key=cv2.waitKey()\n",
    "if key==27:\n",
    "    cv2.destroyAllWindows()"
   ]
  },
  {
   "cell_type": "code",
   "execution_count": 6,
   "metadata": {},
   "outputs": [],
   "source": [
    "#图像颜色增强\n",
    "import random\n",
    "def random_light_color(img):\n",
    "    B,G,R=cv2.split(img)\n",
    "    \n",
    "    b_rand=random.randint(-50,50)\n",
    "    if b_rand==0:\n",
    "        pass\n",
    "    elif b_rand>0:\n",
    "        lim=255-b_rand\n",
    "        B[B>lim]=255\n",
    "        B[B<=lim]=(b_rand+B[B<=lim]).astype(img.dtype)#加大亮度\n",
    "    elif b_rand<0:  #同样是想增加亮度  使其远离0的那一边\n",
    "        lim=0-b_rand\n",
    "        B[B<lim]=0\n",
    "        B[B>=lim]=(b_rand+B[B>=lim]).astype(img.dtype)\n",
    "    \n",
    "    g_rand=random.randint(-50,50)\n",
    "    if g_rand==0:\n",
    "        pass\n",
    "    elif g_rand>0:\n",
    "        lim=255-g_rand\n",
    "        G[G>lim]=255\n",
    "        G[G<=lim]=(g_rand+G[G<=lim]).astype(img.dtype)#加大亮度\n",
    "    elif g_rand<0:  #同样是想增加亮度  使其远离0的那一边\n",
    "        lim=0-g_rand\n",
    "        G[G<lim]=0\n",
    "        G[G>=lim]=(g_rand+G[G>=lim]).astype(img.dtype)\n",
    "    \n",
    "    r_rand=random.randint(-50,50)\n",
    "    if r_rand==0:\n",
    "        pass\n",
    "    elif r_rand>0:\n",
    "        lim=255-r_rand\n",
    "        R[R>lim]=255\n",
    "        R[R<=lim]=(r_rand+R[R<=lim]).astype(img.dtype)#加大亮度\n",
    "    elif r_rand<0:  #同样是想增加亮度  使其远离0的那一边\n",
    "        lim=0-r_rand\n",
    "        R[R<lim]=0\n",
    "        R[R>=lim]=(r_rand+R[R>=lim]).astype(img.dtype)\n",
    "    \n",
    "    img_merge=cv2.merge((B,G,R))\n",
    "    return img_merge\n",
    "img_random_color=random_light_color(img)\n",
    "cv2.imshow('img_random_color',img_random_color)\n",
    "key=cv2.waitKey()\n",
    "if key==27:\n",
    "    cv2.destroyAllWindows()"
   ]
  },
  {
   "cell_type": "code",
   "execution_count": 7,
   "metadata": {},
   "outputs": [],
   "source": [
    "#伽马校正\n",
    "import numpy as np\n",
    "img_dark=cv2.imread('D:/10.jpg')\n",
    "cv2.imshow('img_dark',img_dark)\n",
    "key=cv2.waitKey()\n",
    "if key==27:\n",
    "    cv2.destroyAllWindows()\n",
    "def adjust_gamma(image,gamma=1.0):\n",
    "    invGamma=1.0/gamma\n",
    "    table=[]\n",
    "    for i in range(256):\n",
    "        table.append(((i/255.0)**invGamma)*255)\n",
    "    table=np.array(table).astype(\"uint8\")\n",
    "    return cv2.LUT(img_dark,table)\n",
    "img_brighter=adjust_gamma(img_dark,2)\n",
    "cv2.imshow('img_dark',img_dark)\n",
    "cv2.imshow('img_brighter',img_brighter)\n",
    "key=cv2.waitKey()\n",
    "if key==27:\n",
    "    cv2.destroyAllWindows()"
   ]
  },
  {
   "cell_type": "code",
   "execution_count": 13,
   "metadata": {},
   "outputs": [
    {
     "data": {
      "image/png": "[encoded data removed]",
      "text/plain": [
       "<Figure size 432x288 with 1 Axes>"
      ]
     },
     "metadata": {
      "needs_background": "light"
     },
     "output_type": "display_data"
    }
   ],
   "source": [
    "import matplotlib.pyplot as plt\n",
    "img_small_brighter=cv2.resize(img_brighter,(int(img_brighter.shape[0]*0.5),int(img_brighter.shape[1]*0.5)))\n",
    "plt.hist(img_brighter.flatten(),256,[0,256],color='r')\n",
    "img_yuv=cv2.cvtColor(img_small_brighter,cv2.COLOR_BGR2YUV)\n",
    "img_yuv[:,:,0]=cv2.equalizeHist(img_yuv[:,:,0])\n",
    "img_output=cv2.cvtColor(img_yuv,cv2.COLOR_YUV2BGR)\n",
    "cv2.imshow('Color input image',img_small_brighter)\n",
    "cv2.imshow('Histogram equalized',img_output)\n",
    "key=cv2.waitKey(0)\n",
    "if key==27:\n",
    "    exit()"
   ]
  },
  {
   "cell_type": "code",
   "execution_count": 8,
   "metadata": {},
   "outputs": [
    {
     "name": "stdout",
     "output_type": "stream",
     "text": [
      "[[  0.8660254    0.5        -49.75635095]\n",
      " [ -0.5          0.8660254  147.30677027]]\n"
     ]
    }
   ],
   "source": [
    "#旋转\n",
    "M = cv2.getRotationMatrix2D((img.shape[1] / 2, img.shape[0] / 2), 30, 1) # center, angle, scale\n",
    "img_rotate = cv2.warpAffine(img, M, (img.shape[1], img.shape[0]))\n",
    "cv2.imshow('rotated lenna', img_rotate)\n",
    "key = cv2.waitKey(0)\n",
    "if key == 27:\n",
    "    cv2.destroyAllWindows()\n",
    "print(M)\n",
    "\n"
   ]
  },
  {
   "cell_type": "code",
   "execution_count": 9,
   "metadata": {},
   "outputs": [
    {
     "name": "stdout",
     "output_type": "stream",
     "text": [
      "[[  0.8660254    0.5        -49.75635095]\n",
      " [ -0.5          0.8660254  147.30677027]]\n"
     ]
    }
   ],
   "source": [
    "# set M[0][2] = M[1][2] = 0\n",
    "print(M)\n",
    "img_rotate2 = cv2.warpAffine(img, M, (img.shape[1], img.shape[0]))\n",
    "cv2.imshow('rotated lenna2', img_rotate2)\n",
    "key = cv2.waitKey(0)\n",
    "if key == 27:\n",
    "    cv2.destroyAllWindows()"
   ]
  },
  {
   "cell_type": "code",
   "execution_count": 11,
   "metadata": {},
   "outputs": [],
   "source": [
    "rows,cols,ch=img.shape\n",
    "pts1=np.float32([[0,0],[cols-1,0],[0,rows-1]])\n",
    "pts2=np.float32([[cols*0.2,rows*0.1],[cols*0.9,rows*0.2],[cols*0.1,rows*0.9]])\n",
    "\n",
    "M=cv2.getAffineTransform(pts1,pts2)\n",
    "dst=cv2.warpAffine(img,M,(cols,rows))\n",
    "cv2.imshow('affine lenna',dst)\n",
    "key=cv2.waitKey(0)\n",
    "if key==27:\n",
    "    cv2.destroyAllWindows()"
   ]
  },
  {
   "cell_type": "code",
   "execution_count": 12,
   "metadata": {},
   "outputs": [],
   "source": [
    "def random_warp(img, row, col):\n",
    "    height, width, channels = img.shape\n",
    "\n",
    "    # warp:\n",
    "    random_margin = 60\n",
    "    x1 = random.randint(-random_margin, random_margin)\n",
    "    y1 = random.randint(-random_margin, random_margin)\n",
    "    x2 = random.randint(width - random_margin - 1, width - 1)\n",
    "    y2 = random.randint(-random_margin, random_margin)\n",
    "    x3 = random.randint(width - random_margin - 1, width - 1)\n",
    "    y3 = random.randint(height - random_margin - 1, height - 1)\n",
    "    x4 = random.randint(-random_margin, random_margin)\n",
    "    y4 = random.randint(height - random_margin - 1, height - 1)\n",
    "\n",
    "    dx1 = random.randint(-random_margin, random_margin)\n",
    "    dy1 = random.randint(-random_margin, random_margin)\n",
    "    dx2 = random.randint(width - random_margin - 1, width - 1)\n",
    "    dy2 = random.randint(-random_margin, random_margin)\n",
    "    dx3 = random.randint(width - random_margin - 1, width - 1)\n",
    "    dy3 = random.randint(height - random_margin - 1, height - 1)\n",
    "    dx4 = random.randint(-random_margin, random_margin)\n",
    "    dy4 = random.randint(height - random_margin - 1, height - 1)\n",
    "\n",
    "    pts1 = np.float32([[x1, y1], [x2, y2], [x3, y3], [x4, y4]])\n",
    "    pts2 = np.float32([[dx1, dy1], [dx2, dy2], [dx3, dy3], [dx4, dy4]])\n",
    "    M_warp = cv2.getPerspectiveTransform(pts1, pts2)\n",
    "    img_warp = cv2.warpPerspective(img, M_warp, (width, height))\n",
    "    return M_warp, img_warp\n",
    "M_warp, img_warp = random_warp(img, img.shape[0], img.shape[1])\n",
    "cv2.imshow('lenna_warp', img_warp)\n",
    "key = cv2.waitKey(0)\n",
    "if key == 27:\n",
    "    cv2.destroyAllWindows()"
   ]
  },
  {
   "cell_type": "code",
   "execution_count": null,
   "metadata": {},
   "outputs": [],
   "source": []
  }
 ],
 "metadata": {
  "kernelspec": {
   "display_name": "Python 3",
   "language": "python",
   "name": "python3"
  },
  "language_info": {
   "codemirror_mode": {
    "name": "ipython",
    "version": 3
   },
   "file_extension": ".py",
   "mimetype": "text/x-python",
   "name": "python",
   "nbconvert_exporter": "python",
   "pygments_lexer": "ipython3",
   "version": "3.7.1"
  }
 },
 "nbformat": 4,
 "nbformat_minor": 2
}
